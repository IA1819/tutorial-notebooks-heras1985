{
 "cells": [
  {
   "cell_type": "markdown",
   "metadata": {
    "colab_type": "text",
    "id": "sAlmxkvDVWYE"
   },
   "source": [
    "# Introducción a los notebooks de Jupyter"
   ]
  },
  {
   "cell_type": "markdown",
   "metadata": {
    "colab_type": "text",
    "id": "DtHn3g00VWYG"
   },
   "source": [
    "En este documento se explica todo lo necesario para utilizar los notebooks de Jupyter. En la sección 1 se explican las nociones básicas; y en la sección 2, se introducen una serie de utilidades algo más avanzadas."
   ]
  },
  {
   "cell_type": "markdown",
   "metadata": {
    "colab_type": "text",
    "id": "PjD3ma2TVWYI"
   },
   "source": [
    "## Sección 1: Lo básico"
   ]
  },
  {
   "cell_type": "markdown",
   "metadata": {
    "colab_type": "text",
    "id": "5uvpqm6OVWYJ"
   },
   "source": [
    "### Introducción"
   ]
  },
  {
   "cell_type": "markdown",
   "metadata": {
    "colab_type": "text",
    "id": "Q3SLrY5wVWYJ"
   },
   "source": [
    "Vamos a empezar por lo básico: ¿qué es un notebook de Jupyter? Un notebook de Jupyter es un documento hecho de celdas. Existen dos tipos principales de celdas: las celdas de texto (o *markdown cells*), como la actual; y las céldas de código, como la celda de abajo."
   ]
  },
  {
   "cell_type": "code",
   "execution_count": 1,
   "metadata": {
    "colab": {
     "base_uri": "https://localhost:8080/",
     "height": 35
    },
    "colab_type": "code",
    "id": "uLVVQQZAVWYK",
    "outputId": "36817172-9d2c-4907-c101-7655f5509597"
   },
   "outputs": [
    {
     "data": {
      "text/plain": [
       "12"
      ]
     },
     "execution_count": 1,
     "metadata": {},
     "output_type": "execute_result"
    }
   ],
   "source": [
    "4+8"
   ]
  },
  {
   "cell_type": "markdown",
   "metadata": {
    "colab_type": "text",
    "id": "TB7S8XsmVWYQ"
   },
   "source": [
    "Esta combinación de texto y código hace que los notebooks de Jupyter sean la herramienta ideal para realizar experimentos: podemos ver las explicaciones, código y resultados de un experimento en un único documento. \n",
    "\n",
    "Existen muchas instituciones tanto universitarias como en la industria que usan los notebooks de Jupyter: Google, Microsoft, IBM, Bloomberg, Berkeley y la NASA entre otros. Incluso ganadores del nobel de economía [usan notebooks de  Jupyter](https://paulromer.net/jupyter-mathematica-and-the-future-of-the-research-paper/) para sus experimentos, y hay incluso quien sugiere que los notebooks de Jupyter pronto serán [el nuevo formato para escribir artículos de investigación](https://www.theatlantic.com/science/archive/2018/04/the-scientific-paper-is-obsolete/556676/)."
   ]
  },
  {
   "cell_type": "markdown",
   "metadata": {
    "colab_type": "text",
    "id": "x38csAcMVWYS"
   },
   "source": [
    "### Escribiendo"
   ]
  },
  {
   "cell_type": "markdown",
   "metadata": {
    "colab_type": "text",
    "id": "vz1tnDP7VWYS"
   },
   "source": [
    "Un tipo de celda en la que puedes escribir se llama _Markdown_. [_Markdown_](https://es.wikipedia.org/wiki/Markdown) es un lenguaje de marcas muy popular. Para especificar que una celda es de tipo _Markdown_ necesitas hacer click en el menú desplegable de la barra de herramientas y seleccionar _Markdown_."
   ]
  },
  {
   "cell_type": "markdown",
   "metadata": {
    "colab_type": "text",
    "id": "5JRUW8JiVWYT"
   },
   "source": [
    "Haz click en el botón '+' que aparece a la izquierda en la barra de herramientas y selecciona _Markdown_ en el desplegable."
   ]
  },
  {
   "cell_type": "markdown",
   "metadata": {
    "colab_type": "text",
    "id": "wVRWN3hrVWYU"
   },
   "source": [
    "Ahora puedes escribir tu primera celda de _Markdown_. Escribe 'Mi primera celda de markdown' y pulsa el botón Run."
   ]
  },
  {
   "cell_type": "markdown",
   "metadata": {
    "colab_type": "text",
    "id": "TaJyNQS5VWYV"
   },
   "source": [
    "![add](https://github.com/IA1819/tutorial-notebooks-heras1985/blob/master/notebook_tutorial/add.png?raw=1)"
   ]
  },
  {
   "cell_type": "markdown",
   "metadata": {
    "colab_type": "text",
    "id": "xClsKJIxVWYW"
   },
   "source": [
    "Deberías ver algo como lo siguiente."
   ]
  },
  {
   "cell_type": "markdown",
   "metadata": {
    "colab_type": "text",
    "id": "RQP8guOIVWYW"
   },
   "source": [
    "Mi primera celda de markdown"
   ]
  },
  {
   "cell_type": "markdown",
   "metadata": {
    "colab_type": "text",
    "id": "e4Y7R1bLVWYY"
   },
   "source": [
    "Ahora vamos a crear nuestra primera celda de código. Sigue los mismo pasos de antes, pero en este caso no cambies el tipo de celda (cuando añades una nueva celda esta por defecto tiene el tipo código). Escribe en dicha celda algo como 3/2 y pulsa el botón Run."
   ]
  },
  {
   "cell_type": "markdown",
   "metadata": {
    "colab_type": "text",
    "id": "GxV5oxYKVWYY"
   },
   "source": [
    "### Modos"
   ]
  },
  {
   "cell_type": "markdown",
   "metadata": {
    "colab_type": "text",
    "id": "m_rEg55dVWYZ"
   },
   "source": [
    "Si comentes un error en tu celda de *Markdown* y ya la has ejectuado podras darte cuenta que no puedes editarla simplemente haciendo click en ella. Esto es debido a que te encuentras en el **modo comando**. Los notebooks de Jupyter tienen dos modos:\n",
    "\n",
    "1. **Modo edición**: permite editar el contenido de una celda.\n",
    "2. **Modo comando**: permite editar el notebook como un todo y usar atajos de teclado pero no editar el contenido de una celda.\n",
    "\n",
    "Puedes cambiar de modo pulsando las teclas <kbd>ESC</kbd> y <kbd>Enter</kbd> o haciendo click fuera o dentro de una celda (necesitarás hacer doble click si es una celda de markdown). Siempre puedes saber en qué modo te encuentras ya que las celdas tienen un borde verde cuando estás en modo edición y un borde azul cuando estás en modo comando. Puedes comprobarlo por ti mismo."
   ]
  },
  {
   "cell_type": "markdown",
   "metadata": {
    "colab_type": "text",
    "id": "p9oHIRbrVWYa"
   },
   "source": [
    "### Otras cuestiones importantes"
   ]
  },
  {
   "cell_type": "markdown",
   "metadata": {
    "colab_type": "text",
    "id": "-peNCW9kVWYb"
   },
   "source": [
    "1. Tu notebook se guarda automáticamente cada 120 segundos. Si quieres guardarlo manualmente puedes hacerlo pulsando el botón de guardar en la barra de herramientas o pulsando la tecla <kbd>s</kbd> cuando estés en modo comando. "
   ]
  },
  {
   "cell_type": "markdown",
   "metadata": {
    "colab_type": "text",
    "id": "wnR0_gkJVWYb"
   },
   "source": [
    "![Save](https://github.com/IA1819/tutorial-notebooks-heras1985/blob/master/notebook_tutorial/save.png?raw=1)"
   ]
  },
  {
   "cell_type": "markdown",
   "metadata": {
    "colab_type": "text",
    "id": "yWpOwSxEVWYc"
   },
   "source": [
    "2. Para saber si tu núcleo está realizando cálculos lo puedes comprobar en la esquina superior derecha. Si el punto está rellenado significa que tu núcleo está trabajando. Si no, es que está en reposo. "
   ]
  },
  {
   "cell_type": "markdown",
   "metadata": {
    "colab_type": "text",
    "id": "CIRBuxiwVWYd"
   },
   "source": [
    "![Busy](https://github.com/IA1819/tutorial-notebooks-heras1985/blob/master/notebook_tutorial/busy.png?raw=1)"
   ]
  },
  {
   "cell_type": "markdown",
   "metadata": {
    "colab_type": "text",
    "id": "U4MsqAdxVWYf"
   },
   "source": [
    "3. Hay una serie de atajos de teclado que es conveniente que conozcas (todos los atajos son para cuando te encuentras en modo comando). Estos son:\n",
    "\n",
    "<kbd>Shift</kbd>+<kbd>Enter</kbd>: Ejecuta el código de una celda.\n",
    "\n",
    "<kbd>Up Arrow</kbd>+<kbd>Down Arrow</kbd>: Te mueve a través de las celdas.\n",
    "\n",
    "<kbd>b</kbd>: Crea una nueva celda.\n",
    "\n",
    "<kbd>0</kbd>+<kbd>0</kbd>: Reinicia el núcleo.\n",
    "\n",
    "Puedes encontrar más atajos en la siguiente sección."
   ]
  },
  {
   "cell_type": "markdown",
   "metadata": {
    "colab_type": "text",
    "id": "bh2csp8dVWYf"
   },
   "source": [
    "4. Puede que en algún momento necesites utilizar una terminal en el entorno de un notebook de Jupyter (por ejemplo para realizar un git pull en un repositorio). Esto es sencillo de hacer, simplemente pulsa 'New' en tu directorio 'home' y selecciona terminal. "
   ]
  },
  {
   "cell_type": "markdown",
   "metadata": {
    "colab_type": "text",
    "id": "gENFaK4zVWYg"
   },
   "source": [
    "![Terminal](https://github.com/IA1819/tutorial-notebooks-heras1985/blob/master/notebook_tutorial/terminal.png?raw=1)"
   ]
  },
  {
   "cell_type": "markdown",
   "metadata": {
    "colab_type": "text",
    "id": "vOONjfauVWYh"
   },
   "source": [
    "Esto es todo lo que necesitas conocer para usar los notebooks de Jupyter. Dicho esto a continuación se incluyen una serie de consejos y trucos. "
   ]
  },
  {
   "cell_type": "markdown",
   "metadata": {
    "colab_type": "text",
    "id": "HPyI4OxcVWYi"
   },
   "source": [
    "## Sección 2: Profundizando"
   ]
  },
  {
   "cell_type": "markdown",
   "metadata": {
    "colab_type": "text",
    "hide_input": false,
    "id": "QrHU4PxfVWYi"
   },
   "source": [
    "### Formato Markdown "
   ]
  },
  {
   "cell_type": "markdown",
   "metadata": {
    "colab_type": "text",
    "id": "pQIeqiHkVWYk"
   },
   "source": [
    "#### Cursiva, negrita, resaltando, bloques y enlaces\n"
   ]
  },
  {
   "cell_type": "markdown",
   "metadata": {
    "colab_type": "text",
    "id": "6PY4QxchVWYl"
   },
   "source": [
    "Los cinco conceptos más importantes que necesitas conocer para formatear tu código y texto de manera adecuada usando markdown son:\n",
    "    \n",
    "1. *Cursiva*: Pon tu texto entre '\\_' o '\\*'\n",
    "2. **Bold**: Pon tu texto entre '\\__' o '\\**'\n",
    "3. `resaltado`: Pon tu texto entre '\\`'\n",
    "4.  > blockquote: Pon '\\>' antes de tu texto.\n",
    "5.  [Enlaces](http://www.unirioja.es/): Pon el texto que quieres enlazar entre '\\[\\]' y coloca el enlace seguidamente entre '()'\n"
   ]
  },
  {
   "cell_type": "markdown",
   "metadata": {
    "colab_type": "text",
    "id": "tBdgJFuSVWYl"
   },
   "source": [
    "#### Encabezados"
   ]
  },
  {
   "cell_type": "markdown",
   "metadata": {
    "colab_type": "text",
    "id": "4_zYUt97VWYm"
   },
   "source": [
    "Cuando pones una almohadilla delante de tu texto en una celda de markdown esto hace que el texto sea un encabezado. El número de almohadillas que incluyas indicará la prioridad del encabezado ('#' es nivel uno, '##' es nivel dos, '###' es nivel tres, y '####' es nivel cuatro)."
   ]
  },
  {
   "cell_type": "markdown",
   "metadata": {
    "colab_type": "text",
    "id": "5qmtjt_JVWYn"
   },
   "source": [
    "#### Listas"
   ]
  },
  {
   "cell_type": "markdown",
   "metadata": {
    "colab_type": "text",
    "id": "FAGCB2eIVWYo"
   },
   "source": [
    "Existen tres tipos de listas en markdown."
   ]
  },
  {
   "cell_type": "markdown",
   "metadata": {
    "colab_type": "text",
    "id": "dz0CxDCQVWYo"
   },
   "source": [
    "Listas ordenadas:\n",
    "\n",
    "1. Paso 1\n",
    "    2. Paso 1B\n",
    "3. Paso 3"
   ]
  },
  {
   "cell_type": "markdown",
   "metadata": {
    "colab_type": "text",
    "id": "7LTQbqA_VWYo"
   },
   "source": [
    "Listas no ordenadas\n",
    "\n",
    "* manzanas\n",
    "* peras\n",
    "* naranjas"
   ]
  },
  {
   "cell_type": "markdown",
   "metadata": {
    "colab_type": "text",
    "id": "E_IsvvZGVWYq"
   },
   "source": [
    "Listas de tareas:\n",
    "\n",
    "- [x] Aprender como usar notebooks de Jupyter.\n",
    "    - [x] Escribir\n",
    "    - [x] Modos\n",
    "    - [x] Otros\n",
    "- [ ] Cambiar el mundo"
   ]
  },
  {
   "cell_type": "markdown",
   "metadata": {
    "colab_type": "text",
    "id": "C4ii0FVoVWYq"
   },
   "source": [
    "Haz doble click en cada una de ellas para ver cómo se han construido. "
   ]
  },
  {
   "cell_type": "markdown",
   "metadata": {
    "colab_type": "text",
    "id": "FYy1Yn61VWYr"
   },
   "source": [
    "### Capacidades de código"
   ]
  },
  {
   "cell_type": "markdown",
   "metadata": {
    "colab_type": "text",
    "id": "Q7kBsJWKVWYs"
   },
   "source": [
    "Las celdas de código son diferentes que las celdas de markdown en el sentido de que tienen asociada una salida de resultado. Esto significa que podemos mantener los resultados de nuestro código en los notebooks y compartirlos. Digamos que queremos incluir un gráfico que explique los resultados de un experimento. Para ello podemos ejecutar las celdas necesarias y guardar el notebook. La salida seguirá ahí cuando lo volvamos a abrirlo. Veámos un ejemplo ejecutando las siguientes celdas. "
   ]
  },
  {
   "cell_type": "code",
   "execution_count": 0,
   "metadata": {
    "colab": {},
    "colab_type": "code",
    "id": "oSkCzSRqVWYt"
   },
   "outputs": [],
   "source": [
    "# Importa las librerías necesarias\n",
    "import matplotlib.pyplot as plt"
   ]
  },
  {
   "cell_type": "code",
   "execution_count": 0,
   "metadata": {
    "colab": {},
    "colab_type": "code",
    "id": "XyBJaBchVWYw",
    "outputId": "bdeda584-436c-42de-e107-390d0bae718e"
   },
   "outputs": [
    {
     "data": {
      "text/plain": [
       "(1, 2, 4, 8)"
      ]
     },
     "execution_count": 2,
     "metadata": {
      "tags": []
     },
     "output_type": "execute_result"
    }
   ],
   "source": [
    "a = 1\n",
    "b = a + 1\n",
    "c = b + a + 1\n",
    "d = c + b + a + 1\n",
    "a, b, c ,d"
   ]
  },
  {
   "cell_type": "code",
   "execution_count": 0,
   "metadata": {
    "colab": {},
    "colab_type": "code",
    "id": "babDjCk9VWYz",
    "outputId": "61119396-72e2-468b-b037-16ba6e79baf6"
   },
   "outputs": [
    {
     "data": {
      "image/png": "[encoded data removed]",
      "text/plain": [
       "<Figure size 432x288 with 1 Axes>"
      ]
     },
     "metadata": {
      "needs_background": "light",
      "tags": []
     },
     "output_type": "display_data"
    }
   ],
   "source": [
    "plt.plot([a,b,c,d])\n",
    "plt.show()"
   ]
  },
  {
   "cell_type": "markdown",
   "metadata": {
    "colab_type": "text",
    "id": "XHKDIbJPVWY4"
   },
   "source": [
    "### Creando un notebook"
   ]
  },
  {
   "cell_type": "markdown",
   "metadata": {
    "colab_type": "text",
    "id": "glHgAJRNVWY4"
   },
   "source": [
    "Haz click en 'New' en la esquina superior derecha de tu 'Home' y selecciona 'Python 3' en la lista desplegable. \n",
    "\n",
    "![new_notebook](https://github.com/IA1819/tutorial-notebooks-heras1985/blob/master/notebook_tutorial/new_notebook.png?raw=1)"
   ]
  },
  {
   "cell_type": "markdown",
   "metadata": {
    "colab_type": "text",
    "id": "XRHSZ2sXVWY6"
   },
   "source": [
    "### Atajos de teclado y trucos "
   ]
  },
  {
   "cell_type": "markdown",
   "metadata": {
    "colab_type": "text",
    "id": "rBGBYhVUVWY7"
   },
   "source": [
    "#### Atajos de teclado"
   ]
  },
  {
   "cell_type": "markdown",
   "metadata": {
    "colab_type": "text",
    "id": "bvZ66EVXVWY8"
   },
   "source": [
    "Existen una serie de atajos de teclado que pueden ser útiles en el modo comando. "
   ]
  },
  {
   "cell_type": "markdown",
   "metadata": {
    "colab_type": "text",
    "id": "rPLRwzPzVWY9"
   },
   "source": [
    "<kbd>m</kbd>: Convierte la celda a markdown."
   ]
  },
  {
   "cell_type": "markdown",
   "metadata": {
    "colab_type": "text",
    "id": "C184_fqgVWY_"
   },
   "source": [
    "<kbd>y</kbd>: Convierte la celda a código."
   ]
  },
  {
   "cell_type": "markdown",
   "metadata": {
    "colab_type": "text",
    "id": "e7_ll82sVWY_"
   },
   "source": [
    "<kbd>D</kbd>+<kbd>D</kbd>: Elimina la celda."
   ]
  },
  {
   "cell_type": "markdown",
   "metadata": {
    "colab_type": "text",
    "id": "XUE9TCsuVWZA"
   },
   "source": [
    "<kbd>o</kbd>: Muestra u oculta la salida."
   ]
  },
  {
   "cell_type": "markdown",
   "metadata": {
    "colab_type": "text",
    "id": "XKlsyXxIVWZB"
   },
   "source": [
    "<kbd>Shift</kbd>+<kbd>Arrow up/Arrow down</kbd>: Selecciona múltiples celdas. Una vez que han sido seleccionadas puedes trabajar con todas ellas (ejecutar, copiar, pegar, etc.)."
   ]
  },
  {
   "cell_type": "markdown",
   "metadata": {
    "colab_type": "text",
    "id": "W-NmTtD1VWZC"
   },
   "source": [
    "<kbd>Shift</kbd>+<kbd>M</kbd>: Combinar las celdas seleccionadas."
   ]
  },
  {
   "cell_type": "markdown",
   "metadata": {
    "colab_type": "text",
    "id": "uc8PhRV9VWZC"
   },
   "source": [
    "<kbd>Shift</kbd>+<kbd>Tab</kbd>: [pulsa una vez] Te indica qué parámetros pasarle a una función.\n",
    "<kbd>Shift</kbd>+<kbd>Tab</kbd>: [pulsa tres veces] Proporciona información adicional sobre el método."
   ]
  },
  {
   "cell_type": "markdown",
   "metadata": {
    "colab_type": "text",
    "id": "sHbG0WrpVWZC"
   },
   "source": [
    "#### Trucos en las celdas."
   ]
  },
  {
   "cell_type": "markdown",
   "metadata": {
    "colab_type": "text",
    "id": "16AThwY2VWZD"
   },
   "source": [
    "Ejecuta la siguiente celda."
   ]
  },
  {
   "cell_type": "code",
   "execution_count": 0,
   "metadata": {
    "colab": {},
    "colab_type": "code",
    "id": "Yzromkj5VWZE"
   },
   "outputs": [],
   "source": [
    "from numpy import *"
   ]
  },
  {
   "cell_type": "markdown",
   "metadata": {
    "colab_type": "text",
    "id": "XD2vFd9WVWZK"
   },
   "source": [
    "Existen una serie detrucos que puedes utilizar cuando estás en una celda de código."
   ]
  },
  {
   "cell_type": "markdown",
   "metadata": {
    "colab_type": "text",
    "id": "zgEr9uOzVWZK"
   },
   "source": [
    "`?nombre-de-funcion`: Muestra la definición y el docstring de una función."
   ]
  },
  {
   "cell_type": "code",
   "execution_count": 0,
   "metadata": {
    "colab": {},
    "colab_type": "code",
    "id": "Sjl68Y-lVWZO"
   },
   "outputs": [],
   "source": [
    "?slice"
   ]
  },
  {
   "cell_type": "markdown",
   "metadata": {
    "colab_type": "text",
    "id": "cyF9PUXcVWZS"
   },
   "source": [
    "`??nombre-de-función`: Muestra el código fuente de la función."
   ]
  },
  {
   "cell_type": "code",
   "execution_count": 0,
   "metadata": {
    "colab": {},
    "colab_type": "code",
    "id": "fJqXmlSCVWZT"
   },
   "outputs": [],
   "source": [
    "??slice"
   ]
  },
  {
   "cell_type": "markdown",
   "metadata": {
    "colab_type": "text",
    "id": "8mTkqOAGVWZc"
   },
   "source": [
    "#### Líneas mágicas"
   ]
  },
  {
   "cell_type": "markdown",
   "metadata": {
    "colab_type": "text",
    "id": "vdOtI4kEVWZg"
   },
   "source": [
    "Las líneas mágicas son funciones que se pueden ejecutar en las celdas y toman como argumento el resto de la línea desde las cuales han sido llamadas. Puedes utilizarlas poniendo un signo '%' delante del comando. Las más útiles son las siguientes:"
   ]
  },
  {
   "cell_type": "markdown",
   "metadata": {
    "colab_type": "text",
    "id": "uFiUZI9DVWZi"
   },
   "source": [
    "`%matplotlib inline`: Este comando se asegura que todos los gráficos de matplotlib se muestran en una celda del notebook y que serán mantenidos al guardar el notebook."
   ]
  },
  {
   "cell_type": "markdown",
   "metadata": {
    "colab_type": "text",
    "id": "VZR9siesVWZk"
   },
   "source": [
    "`%reload_ext autoreload`, `%autoreload 2`: Recarga todos los módulos antes de ejecutar una nueva línea. Si un módulo ha sido editado, no es necesario reejecutar los comandos import ya que los módulos son recargados de manera automática. "
   ]
  },
  {
   "cell_type": "markdown",
   "metadata": {
    "colab_type": "text",
    "id": "URVXYDOnVWZk"
   },
   "source": [
    "Estos tres comandos siempre deberían ir al principio de cualquier notebook."
   ]
  },
  {
   "cell_type": "code",
   "execution_count": 0,
   "metadata": {
    "colab": {},
    "colab_type": "code",
    "id": "9Fy-fz45VWZl"
   },
   "outputs": [],
   "source": [
    "%matplotlib inline\n",
    "%reload_ext autoreload\n",
    "%autoreload 2"
   ]
  },
  {
   "cell_type": "markdown",
   "metadata": {
    "colab_type": "text",
    "id": "b3nC41nkVWZq"
   },
   "source": [
    "`%timeit`: Ejecuta una línea diez mil veces y muestra el tiempo medio que costó ejecutarla."
   ]
  },
  {
   "cell_type": "code",
   "execution_count": 0,
   "metadata": {
    "colab": {},
    "colab_type": "code",
    "id": "OeWM-vAFVWZs",
    "outputId": "c7e3e992-4bbe-4eb5-a8e6-2592e4cd87d6"
   },
   "outputs": [
    {
     "name": "stdout",
     "output_type": "stream",
     "text": [
      "40.7 µs ± 623 ns per loop (mean ± std. dev. of 7 runs, 10000 loops each)\n"
     ]
    }
   ],
   "source": [
    "%timeit [i+1 for i in range(1000)]"
   ]
  }
 ],
 "metadata": {
  "colab": {
   "name": "Tutorial.ipynb",
   "provenance": [],
   "version": "0.3.2"
  },
  "kernelspec": {
   "display_name": "Python 3",
   "language": "python",
   "name": "python3"
  },
  "language_info": {
   "codemirror_mode": {
    "name": "ipython",
    "version": 3
   },
   "file_extension": ".py",
   "mimetype": "text/x-python",
   "name": "python",
   "nbconvert_exporter": "python",
   "pygments_lexer": "ipython3",
   "version": "3.6.7"
  }
 },
 "nbformat": 4,
 "nbformat_minor": 1
}
