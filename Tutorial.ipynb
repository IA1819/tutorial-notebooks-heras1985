{
  "nbformat": 4,
  "nbformat_minor": 0,
  "metadata": {
    "colab": {
      "name": "Tutorial.ipynb",
      "version": "0.3.2",
      "provenance": []
    },
    "kernelspec": {
      "display_name": "Python 3",
      "language": "python",
      "name": "python3"
    }
  },
  "cells": [
    {
      "metadata": {
        "id": "sAlmxkvDVWYE",
        "colab_type": "text"
      },
      "cell_type": "markdown",
      "source": [
        "# Introducción a los notebooks de Jupyter"
      ]
    },
    {
      "metadata": {
        "id": "DtHn3g00VWYG",
        "colab_type": "text"
      },
      "cell_type": "markdown",
      "source": [
        "En este documento se explica todo lo necesario para utilizar los notebooks de Jupyter. En la sección 1 se explican las nociones básicas; y en la sección 2, se introducen una serie de utilidades algo más avanzadas."
      ]
    },
    {
      "metadata": {
        "id": "PjD3ma2TVWYI",
        "colab_type": "text"
      },
      "cell_type": "markdown",
      "source": [
        "## Sección 1: Lo básico"
      ]
    },
    {
      "metadata": {
        "id": "5uvpqm6OVWYJ",
        "colab_type": "text"
      },
      "cell_type": "markdown",
      "source": [
        "### Introducción"
      ]
    },
    {
      "metadata": {
        "id": "Q3SLrY5wVWYJ",
        "colab_type": "text"
      },
      "cell_type": "markdown",
      "source": [
        "Vamos a empezar por lo básico: ¿qué es un notebook de Jupyter? Un notebook de Jupyter es un documento hecho de celdas. Existen dos tipos principales de celdas: las celdas de texto (o *markdown cells*), como la actual; y las céldas de código, como la celda de abajo."
      ]
    },
    {
      "metadata": {
        "id": "uLVVQQZAVWYK",
        "colab_type": "code",
        "colab": {
          "base_uri": "https://localhost:8080/",
          "height": 35
        },
        "outputId": "36817172-9d2c-4907-c101-7655f5509597"
      },
      "cell_type": "code",
      "source": [
        "5+3"
      ],
      "execution_count": 2,
      "outputs": [
        {
          "output_type": "execute_result",
          "data": {
            "text/plain": [
              "8"
            ]
          },
          "metadata": {
            "tags": []
          },
          "execution_count": 2
        }
      ]
    },
    {
      "metadata": {
        "id": "TB7S8XsmVWYQ",
        "colab_type": "text"
      },
      "cell_type": "markdown",
      "source": [
        "Esta combinación de texto y código hace que los notebooks de Jupyter sean la herramienta ideal para realizar experimentos: podemos ver las explicaciones, código y resultados de un experimento en un único documento. \n",
        "\n",
        "Existen muchas instituciones tanto universitarias como en la industria que usan los notebooks de Jupyter: Google, Microsoft, IBM, Bloomberg, Berkeley y la NASA entre otros. Incluso ganadores del nobel de economía [usan notebooks de  Jupyter](https://paulromer.net/jupyter-mathematica-and-the-future-of-the-research-paper/) para sus experimentos, y hay incluso quien sugiere que los notebooks de Jupyter pronto serán [el nuevo formato para escribir artículos de investigación](https://www.theatlantic.com/science/archive/2018/04/the-scientific-paper-is-obsolete/556676/)."
      ]
    },
    {
      "metadata": {
        "id": "x38csAcMVWYS",
        "colab_type": "text"
      },
      "cell_type": "markdown",
      "source": [
        "### Escribiendo"
      ]
    },
    {
      "metadata": {
        "id": "vz1tnDP7VWYS",
        "colab_type": "text"
      },
      "cell_type": "markdown",
      "source": [
        "Un tipo de celda en la que puedes escribir se llama _Markdown_. [_Markdown_](https://es.wikipedia.org/wiki/Markdown) es un lenguaje de marcas muy popular. Para especificar que una celda es de tipo _Markdown_ necesitas hacer click en el menú desplegable de la barra de herramientas y seleccionar _Markdown_."
      ]
    },
    {
      "metadata": {
        "id": "5JRUW8JiVWYT",
        "colab_type": "text"
      },
      "cell_type": "markdown",
      "source": [
        "Haz click en el botón '+' que aparece a la izquierda en la barra de herramientas y selecciona _Markdown_ en el desplegable."
      ]
    },
    {
      "metadata": {
        "id": "wVRWN3hrVWYU",
        "colab_type": "text"
      },
      "cell_type": "markdown",
      "source": [
        "Ahora puedes escribir tu primera celda de _Markdown_. Escribe 'Mi primera celda de markdown' y pulsa el botón Run."
      ]
    },
    {
      "metadata": {
        "id": "TaJyNQS5VWYV",
        "colab_type": "text"
      },
      "cell_type": "markdown",
      "source": [
        "![add](https://github.com/IA1819/tutorial-notebooks-heras1985/blob/master/notebook_tutorial/add.png?raw=1)"
      ]
    },
    {
      "metadata": {
        "id": "xClsKJIxVWYW",
        "colab_type": "text"
      },
      "cell_type": "markdown",
      "source": [
        "Deberías ver algo como lo siguiente."
      ]
    },
    {
      "metadata": {
        "id": "RQP8guOIVWYW",
        "colab_type": "text"
      },
      "cell_type": "markdown",
      "source": [
        "Mi primera celda de markdown"
      ]
    },
    {
      "metadata": {
        "id": "e4Y7R1bLVWYY",
        "colab_type": "text"
      },
      "cell_type": "markdown",
      "source": [
        "Ahora vamos a crear nuestra primera celda de código. Sigue los mismo pasos de antes, pero en este caso no cambies el tipo de celda (cuando añades una nueva celda esta por defecto tiene el tipo código). Escribe en dicha celda algo como 3/2 y pulsa el botón Run."
      ]
    },
    {
      "metadata": {
        "id": "GxV5oxYKVWYY",
        "colab_type": "text"
      },
      "cell_type": "markdown",
      "source": [
        "### Modos"
      ]
    },
    {
      "metadata": {
        "id": "m_rEg55dVWYZ",
        "colab_type": "text"
      },
      "cell_type": "markdown",
      "source": [
        "Si comentes un error en tu celda de *Markdown* y ya la has ejectuado podras darte cuenta que no puedes editarla simplemente haciendo click en ella. Esto es debido a que te encuentras en el **modo comando**. Los notebooks de Jupyter tienen dos modos:\n",
        "\n",
        "1. **Modo edición**: permite editar el contenido de una celda.\n",
        "2. **Modo comando**: permite editar el notebook como un todo y usar atajos de teclado pero no editar el contenido de una celda.\n",
        "\n",
        "Puedes cambiar de modo pulsando las teclas <kbd>ESC</kbd> y <kbd>Enter</kbd> o haciendo click fuera o dentro de una celda (necesitarás hacer doble click si es una celda de markdown). Siempre puedes saber en qué modo te encuentras ya que las celdas tienen un borde verde cuando estás en modo edición y un borde azul cuando estás en modo comando. Puedes comprobarlo por ti mismo."
      ]
    },
    {
      "metadata": {
        "id": "p9oHIRbrVWYa",
        "colab_type": "text"
      },
      "cell_type": "markdown",
      "source": [
        "### Otras cuestiones importantes"
      ]
    },
    {
      "metadata": {
        "id": "-peNCW9kVWYb",
        "colab_type": "text"
      },
      "cell_type": "markdown",
      "source": [
        "1. Tu notebook se guarda automáticamente cada 120 segundos. Si quieres guardarlo manualmente puedes hacerlo pulsando el botón de guardar en la barra de herramientas o pulsando la tecla <kbd>s</kbd> cuando estés en modo comando. "
      ]
    },
    {
      "metadata": {
        "id": "wnR0_gkJVWYb",
        "colab_type": "text"
      },
      "cell_type": "markdown",
      "source": [
        "![Save](https://github.com/IA1819/tutorial-notebooks-heras1985/blob/master/notebook_tutorial/save.png?raw=1)"
      ]
    },
    {
      "metadata": {
        "id": "yWpOwSxEVWYc",
        "colab_type": "text"
      },
      "cell_type": "markdown",
      "source": [
        "2. Para saber si tu núcleo está realizando cálculos lo puedes comprobar en la esquina superior derecha. Si el punto está rellenado significa que tu núcleo está trabajando. Si no, es que está en reposo. "
      ]
    },
    {
      "metadata": {
        "id": "CIRBuxiwVWYd",
        "colab_type": "text"
      },
      "cell_type": "markdown",
      "source": [
        "![Busy](https://github.com/IA1819/tutorial-notebooks-heras1985/blob/master/notebook_tutorial/busy.png?raw=1)"
      ]
    },
    {
      "metadata": {
        "id": "U4MsqAdxVWYf",
        "colab_type": "text"
      },
      "cell_type": "markdown",
      "source": [
        "3. Hay una serie de atajos de teclado que es conveniente que conozcas (todos los atajos son para cuando te encuentras en modo comando). Estos son:\n",
        "\n",
        "<kbd>Shift</kbd>+<kbd>Enter</kbd>: Ejecuta el código de una celda.\n",
        "\n",
        "<kbd>Up Arrow</kbd>+<kbd>Down Arrow</kbd>: Te mueve a través de las celdas.\n",
        "\n",
        "<kbd>b</kbd>: Crea una nueva celda.\n",
        "\n",
        "<kbd>0</kbd>+<kbd>0</kbd>: Reinicia el núcleo.\n",
        "\n",
        "Puedes encontrar más atajos en la siguiente sección."
      ]
    },
    {
      "metadata": {
        "id": "bh2csp8dVWYf",
        "colab_type": "text"
      },
      "cell_type": "markdown",
      "source": [
        "4. Puede que en algún momento necesites utilizar una terminal en el entorno de un notebook de Jupyter (por ejemplo para realizar un git pull en un repositorio). Esto es sencillo de hacer, simplemente pulsa 'New' en tu directorio 'home' y selecciona terminal. "
      ]
    },
    {
      "metadata": {
        "id": "gENFaK4zVWYg",
        "colab_type": "text"
      },
      "cell_type": "markdown",
      "source": [
        "![Terminal](https://github.com/IA1819/tutorial-notebooks-heras1985/blob/master/notebook_tutorial/terminal.png?raw=1)"
      ]
    },
    {
      "metadata": {
        "id": "vOONjfauVWYh",
        "colab_type": "text"
      },
      "cell_type": "markdown",
      "source": [
        "Esto es todo lo que necesitas conocer para usar los notebooks de Jupyter. Dicho esto a continuación se incluyen una serie de consejos y trucos. "
      ]
    },
    {
      "metadata": {
        "id": "HPyI4OxcVWYi",
        "colab_type": "text"
      },
      "cell_type": "markdown",
      "source": [
        "## Sección 2: Profundizando"
      ]
    },
    {
      "metadata": {
        "hide_input": false,
        "id": "QrHU4PxfVWYi",
        "colab_type": "text"
      },
      "cell_type": "markdown",
      "source": [
        "### Formato Markdown "
      ]
    },
    {
      "metadata": {
        "id": "pQIeqiHkVWYk",
        "colab_type": "text"
      },
      "cell_type": "markdown",
      "source": [
        "#### Cursiva, negrita, resaltando, bloques y enlaces\n"
      ]
    },
    {
      "metadata": {
        "id": "6PY4QxchVWYl",
        "colab_type": "text"
      },
      "cell_type": "markdown",
      "source": [
        "Los cinco conceptos más importantes que necesitas conocer para formatear tu código y texto de manera adecuada usando markdown son:\n",
        "    \n",
        "1. *Cursiva*: Pon tu texto entre '\\_' o '\\*'\n",
        "2. **Bold**: Pon tu texto entre '\\__' o '\\**'\n",
        "3. `resaltado`: Pon tu texto entre '\\`'\n",
        "4.  > blockquote: Pon '\\>' antes de tu texto.\n",
        "5.  [Enlaces](http://www.unirioja.es/): Pon el texto que quieres enlazar entre '\\[\\]' y coloca el enlace seguidamente entre '()'\n"
      ]
    },
    {
      "metadata": {
        "id": "tBdgJFuSVWYl",
        "colab_type": "text"
      },
      "cell_type": "markdown",
      "source": [
        "#### Encabezados"
      ]
    },
    {
      "metadata": {
        "id": "4_zYUt97VWYm",
        "colab_type": "text"
      },
      "cell_type": "markdown",
      "source": [
        "Cuando pones una almohadilla delante de tu texto en una celda de markdown esto hace que el texto sea un encabezado. El número de almohadillas que incluyas indicará la prioridad del encabezado ('#' es nivel uno, '##' es nivel dos, '###' es nivel tres, y '####' es nivel cuatro)."
      ]
    },
    {
      "metadata": {
        "id": "5qmtjt_JVWYn",
        "colab_type": "text"
      },
      "cell_type": "markdown",
      "source": [
        "#### Listas"
      ]
    },
    {
      "metadata": {
        "id": "FAGCB2eIVWYo",
        "colab_type": "text"
      },
      "cell_type": "markdown",
      "source": [
        "Existen tres tipos de listas en markdown."
      ]
    },
    {
      "metadata": {
        "id": "dz0CxDCQVWYo",
        "colab_type": "text"
      },
      "cell_type": "markdown",
      "source": [
        "Listas ordenadas:\n",
        "\n",
        "1. Paso 1\n",
        "    2. Paso 1B\n",
        "3. Paso 3"
      ]
    },
    {
      "metadata": {
        "id": "7LTQbqA_VWYo",
        "colab_type": "text"
      },
      "cell_type": "markdown",
      "source": [
        "Listas no ordenadas\n",
        "\n",
        "* manzanas\n",
        "* peras\n",
        "* naranjas"
      ]
    },
    {
      "metadata": {
        "id": "E_IsvvZGVWYq",
        "colab_type": "text"
      },
      "cell_type": "markdown",
      "source": [
        "Listas de tareas:\n",
        "\n",
        "- [x] Aprender como usar notebooks de Jupyter.\n",
        "    - [x] Escribir\n",
        "    - [x] Modos\n",
        "    - [x] Otros\n",
        "- [ ] Cambiar el mundo"
      ]
    },
    {
      "metadata": {
        "id": "C4ii0FVoVWYq",
        "colab_type": "text"
      },
      "cell_type": "markdown",
      "source": [
        "Haz doble click en cada una de ellas para ver cómo se han construido. "
      ]
    },
    {
      "metadata": {
        "id": "FYy1Yn61VWYr",
        "colab_type": "text"
      },
      "cell_type": "markdown",
      "source": [
        "### Capacidades de código"
      ]
    },
    {
      "metadata": {
        "id": "Q7kBsJWKVWYs",
        "colab_type": "text"
      },
      "cell_type": "markdown",
      "source": [
        "Las celdas de código son diferentes que las celdas de markdown en el sentido de que tienen asociada una salida de resultado. Esto significa que podemos mantener los resultados de nuestro código en los notebooks y compartirlos. Digamos que queremos incluir un gráfico que explique los resultados de un experimento. Para ello podemos ejecutar las celdas necesarias y guardar el notebook. La salida seguirá ahí cuando lo volvamos a abrirlo. Veámos un ejemplo ejecutando las siguientes celdas. "
      ]
    },
    {
      "metadata": {
        "id": "oSkCzSRqVWYt",
        "colab_type": "code",
        "colab": {}
      },
      "cell_type": "code",
      "source": [
        "# Importa las librerías necesarias\n",
        "import matplotlib.pyplot as plt"
      ],
      "execution_count": 0,
      "outputs": []
    },
    {
      "metadata": {
        "id": "XyBJaBchVWYw",
        "colab_type": "code",
        "colab": {},
        "outputId": "bdeda584-436c-42de-e107-390d0bae718e"
      },
      "cell_type": "code",
      "source": [
        "a = 1\n",
        "b = a + 1\n",
        "c = b + a + 1\n",
        "d = c + b + a + 1\n",
        "a, b, c ,d"
      ],
      "execution_count": 0,
      "outputs": [
        {
          "output_type": "execute_result",
          "data": {
            "text/plain": [
              "(1, 2, 4, 8)"
            ]
          },
          "metadata": {
            "tags": []
          },
          "execution_count": 2
        }
      ]
    },
    {
      "metadata": {
        "id": "babDjCk9VWYz",
        "colab_type": "code",
        "colab": {},
        "outputId": "61119396-72e2-468b-b037-16ba6e79baf6"
      },
      "cell_type": "code",
      "source": [
        "plt.plot([a,b,c,d])\n",
        "plt.show()"
      ],
      "execution_count": 0,
      "outputs": [
        {
          "output_type": "display_data",
          "data": {
            "image/png": "[encoded data removed]",
            "text/plain": [
              "<Figure size 432x288 with 1 Axes>"
            ]
          },
          "metadata": {
            "tags": [],
            "needs_background": "light"
          }
        }
      ]
    },
    {
      "metadata": {
        "id": "XHKDIbJPVWY4",
        "colab_type": "text"
      },
      "cell_type": "markdown",
      "source": [
        "### Creando un notebook"
      ]
    },
    {
      "metadata": {
        "id": "glHgAJRNVWY4",
        "colab_type": "text"
      },
      "cell_type": "markdown",
      "source": [
        "Haz click en 'New' en la esquina superior derecha de tu 'Home' y selecciona 'Python 3' en la lista desplegable. \n",
        "\n",
        "![new_notebook](https://github.com/IA1819/tutorial-notebooks-heras1985/blob/master/notebook_tutorial/new_notebook.png?raw=1)"
      ]
    },
    {
      "metadata": {
        "id": "XRHSZ2sXVWY6",
        "colab_type": "text"
      },
      "cell_type": "markdown",
      "source": [
        "### Atajos de teclado y trucos "
      ]
    },
    {
      "metadata": {
        "id": "rBGBYhVUVWY7",
        "colab_type": "text"
      },
      "cell_type": "markdown",
      "source": [
        "#### Atajos de teclado"
      ]
    },
    {
      "metadata": {
        "id": "bvZ66EVXVWY8",
        "colab_type": "text"
      },
      "cell_type": "markdown",
      "source": [
        "Existen una serie de atajos de teclado que pueden ser útiles en el modo comando. "
      ]
    },
    {
      "metadata": {
        "id": "rPLRwzPzVWY9",
        "colab_type": "text"
      },
      "cell_type": "markdown",
      "source": [
        "<kbd>m</kbd>: Convierte la celda a markdown."
      ]
    },
    {
      "metadata": {
        "id": "C184_fqgVWY_",
        "colab_type": "text"
      },
      "cell_type": "markdown",
      "source": [
        "<kbd>y</kbd>: Convierte la celda a código."
      ]
    },
    {
      "metadata": {
        "id": "e7_ll82sVWY_",
        "colab_type": "text"
      },
      "cell_type": "markdown",
      "source": [
        "<kbd>D</kbd>+<kbd>D</kbd>: Elimina la celda."
      ]
    },
    {
      "metadata": {
        "id": "XUE9TCsuVWZA",
        "colab_type": "text"
      },
      "cell_type": "markdown",
      "source": [
        "<kbd>o</kbd>: Muestra u oculta la salida."
      ]
    },
    {
      "metadata": {
        "id": "XKlsyXxIVWZB",
        "colab_type": "text"
      },
      "cell_type": "markdown",
      "source": [
        "<kbd>Shift</kbd>+<kbd>Arrow up/Arrow down</kbd>: Selecciona múltiples celdas. Una vez que han sido seleccionadas puedes trabajar con todas ellas (ejecutar, copiar, pegar, etc.)."
      ]
    },
    {
      "metadata": {
        "id": "W-NmTtD1VWZC",
        "colab_type": "text"
      },
      "cell_type": "markdown",
      "source": [
        "<kbd>Shift</kbd>+<kbd>M</kbd>: Combinar las celdas seleccionadas."
      ]
    },
    {
      "metadata": {
        "id": "uc8PhRV9VWZC",
        "colab_type": "text"
      },
      "cell_type": "markdown",
      "source": [
        "<kbd>Shift</kbd>+<kbd>Tab</kbd>: [pulsa una vez] Te indica qué parámetros pasarle a una función.\n",
        "<kbd>Shift</kbd>+<kbd>Tab</kbd>: [pulsa tres veces] Proporciona información adicional sobre el método."
      ]
    },
    {
      "metadata": {
        "id": "sHbG0WrpVWZC",
        "colab_type": "text"
      },
      "cell_type": "markdown",
      "source": [
        "#### Trucos en las celdas."
      ]
    },
    {
      "metadata": {
        "id": "16AThwY2VWZD",
        "colab_type": "text"
      },
      "cell_type": "markdown",
      "source": [
        "Ejecuta la siguiente celda."
      ]
    },
    {
      "metadata": {
        "id": "Yzromkj5VWZE",
        "colab_type": "code",
        "colab": {}
      },
      "cell_type": "code",
      "source": [
        "from numpy import *"
      ],
      "execution_count": 0,
      "outputs": []
    },
    {
      "metadata": {
        "id": "XD2vFd9WVWZK",
        "colab_type": "text"
      },
      "cell_type": "markdown",
      "source": [
        "Existen una serie detrucos que puedes utilizar cuando estás en una celda de código."
      ]
    },
    {
      "metadata": {
        "id": "zgEr9uOzVWZK",
        "colab_type": "text"
      },
      "cell_type": "markdown",
      "source": [
        "`?nombre-de-funcion`: Muestra la definición y el docstring de una función."
      ]
    },
    {
      "metadata": {
        "id": "Sjl68Y-lVWZO",
        "colab_type": "code",
        "colab": {}
      },
      "cell_type": "code",
      "source": [
        "?slice"
      ],
      "execution_count": 0,
      "outputs": []
    },
    {
      "metadata": {
        "id": "cyF9PUXcVWZS",
        "colab_type": "text"
      },
      "cell_type": "markdown",
      "source": [
        "`??nombre-de-función`: Muestra el código fuente de la función."
      ]
    },
    {
      "metadata": {
        "id": "fJqXmlSCVWZT",
        "colab_type": "code",
        "colab": {}
      },
      "cell_type": "code",
      "source": [
        "??slice"
      ],
      "execution_count": 0,
      "outputs": []
    },
    {
      "metadata": {
        "id": "8mTkqOAGVWZc",
        "colab_type": "text"
      },
      "cell_type": "markdown",
      "source": [
        "#### Líneas mágicas"
      ]
    },
    {
      "metadata": {
        "id": "vdOtI4kEVWZg",
        "colab_type": "text"
      },
      "cell_type": "markdown",
      "source": [
        "Las líneas mágicas son funciones que se pueden ejecutar en las celdas y toman como argumento el resto de la línea desde las cuales han sido llamadas. Puedes utilizarlas poniendo un signo '%' delante del comando. Las más útiles son las siguientes:"
      ]
    },
    {
      "metadata": {
        "id": "uFiUZI9DVWZi",
        "colab_type": "text"
      },
      "cell_type": "markdown",
      "source": [
        "`%matplotlib inline`: Este comando se asegura que todos los gráficos de matplotlib se muestran en una celda del notebook y que serán mantenidos al guardar el notebook."
      ]
    },
    {
      "metadata": {
        "id": "VZR9siesVWZk",
        "colab_type": "text"
      },
      "cell_type": "markdown",
      "source": [
        "`%reload_ext autoreload`, `%autoreload 2`: Recarga todos los módulos antes de ejecutar una nueva línea. Si un módulo ha sido editado, no es necesario reejecutar los comandos import ya que los módulos son recargados de manera automática. "
      ]
    },
    {
      "metadata": {
        "id": "URVXYDOnVWZk",
        "colab_type": "text"
      },
      "cell_type": "markdown",
      "source": [
        "Estos tres comandos siempre deberían ir al principio de cualquier notebook."
      ]
    },
    {
      "metadata": {
        "id": "9Fy-fz45VWZl",
        "colab_type": "code",
        "colab": {}
      },
      "cell_type": "code",
      "source": [
        "%matplotlib inline\n",
        "%reload_ext autoreload\n",
        "%autoreload 2"
      ],
      "execution_count": 0,
      "outputs": []
    },
    {
      "metadata": {
        "id": "b3nC41nkVWZq",
        "colab_type": "text"
      },
      "cell_type": "markdown",
      "source": [
        "`%timeit`: Ejecuta una línea diez mil veces y muestra el tiempo medio que costó ejecutarla."
      ]
    },
    {
      "metadata": {
        "id": "OeWM-vAFVWZs",
        "colab_type": "code",
        "colab": {},
        "outputId": "c7e3e992-4bbe-4eb5-a8e6-2592e4cd87d6"
      },
      "cell_type": "code",
      "source": [
        "%timeit [i+1 for i in range(1000)]"
      ],
      "execution_count": 0,
      "outputs": [
        {
          "output_type": "stream",
          "text": [
            "40.7 µs ± 623 ns per loop (mean ± std. dev. of 7 runs, 10000 loops each)\n"
          ],
          "name": "stdout"
        }
      ]
    }
  ]
}